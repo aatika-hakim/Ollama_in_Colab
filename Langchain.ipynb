{
  "nbformat": 4,
  "nbformat_minor": 0,
  "metadata": {
    "colab": {
      "provenance": [],
      "authorship_tag": "ABX9TyOZ2iBrXY2jI1CsKBof/Mw5",
      "include_colab_link": true
    },
    "kernelspec": {
      "name": "python3",
      "display_name": "Python 3"
    },
    "language_info": {
      "name": "python"
    }
  },
  "cells": [
    {
      "cell_type": "markdown",
      "metadata": {
        "id": "view-in-github",
        "colab_type": "text"
      },
      "source": [
        "<a href=\"https://colab.research.google.com/github/aatika-hakim/Ollama_in_Colab/blob/main/Langchain.ipynb\" target=\"_parent\"><img src=\"https://colab.research.google.com/assets/colab-badge.svg\" alt=\"Open In Colab\"/></a>"
      ]
    },
    {
      "cell_type": "markdown",
      "source": [
        "# Getting Started with Chains"
      ],
      "metadata": {
        "id": "I8aN8RufaNVt"
      }
    },
    {
      "cell_type": "markdown",
      "source": [
        "Chains are the core of LangChain. They are simply a chain of components, executed in a particular order.\n",
        "\n",
        "The simplest of these chains is the LLMChain. It works by taking a user's input, passing in to the first element in the chain — a PromptTemplate — to format the input into a particular prompt. The formatted prompt is then passed to the next (and final) element in the chain — a LLM."
      ],
      "metadata": {
        "id": "vZpy6RdOaR_r"
      }
    },
    {
      "cell_type": "markdown",
      "source": [
        "What are chains?"
      ],
      "metadata": {
        "id": "5KFaGvDraejA"
      }
    },
    {
      "cell_type": "markdown",
      "source": [
        "Chains are one of the fundamental building blocks of this lib (as you can guess!).\n",
        "\n",
        "The official definition of chains is the following:\n",
        "\n",
        "A chain is made up of links, which can be either primitives or other chains. Primitives can be either prompts, llms, utils, or other chains."
      ],
      "metadata": {
        "id": "_7xqB1-SaiI_"
      }
    }
  ]
}